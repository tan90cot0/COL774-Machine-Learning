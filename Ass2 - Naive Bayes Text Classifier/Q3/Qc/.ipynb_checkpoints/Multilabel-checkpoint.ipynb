{
 "cells": [
  {
   "cell_type": "code",
   "execution_count": 36,
   "id": "fc7b8395",
   "metadata": {},
   "outputs": [],
   "source": [
    "import numpy as np\n",
    "import matplotlib.pyplot as plt\n",
    "#import functions\n",
    "import pickle\n",
    "from sklearn.svm import SVC\n",
    "from sklearn import metrics"
   ]
  },
  {
   "cell_type": "code",
   "execution_count": 8,
   "id": "50d9f407",
   "metadata": {},
   "outputs": [],
   "source": [
    "def predict(X_train,y_train,X_test, label1, label2):\n",
    "    svm = SVC(kernel='rbf', random_state=1, C=1, gamma = 0.001)\n",
    "    svm.fit(X_train, y_train)\n",
    "    y_pred = svm.predict(X_test)\n",
    "\n",
    "    y_pred[y_pred==1] = label2\n",
    "    y_pred[y_pred==-1] = label1\n",
    "    \n",
    "    \n",
    "    return y_pred"
   ]
  },
  {
   "cell_type": "code",
   "execution_count": 9,
   "id": "d85ffd29",
   "metadata": {},
   "outputs": [],
   "source": [
    "def preprocess(data_dict):\n",
    "    data = data_dict[\"data\"]\n",
    "    labels = data_dict[\"labels\"]\n",
    "    dims = data.shape\n",
    "    train_data = np.zeros((dims[0], dims[1]*dims[2]*dims[3]))\n",
    "    \n",
    "    for l in range(dims[0]):\n",
    "        x = []\n",
    "        for i in range(dims[1]):\n",
    "            for j in range(dims[2]):\n",
    "                for k in range(dims[3]):\n",
    "                    x.append(data[l][i][j][k]/255)\n",
    "        train_data[l,:] = np.array(x)\n",
    "\n",
    "    return train_data, labels"
   ]
  },
  {
   "cell_type": "code",
   "execution_count": 10,
   "id": "03f18145",
   "metadata": {},
   "outputs": [],
   "source": [
    "def get_data(label1, label2, X, y):\n",
    "    new_examples = (X.shape[0]*2)//5\n",
    "    train_data = np.zeros((new_examples, X.shape[1]))\n",
    "    index = 0\n",
    "    indices = np.logical_or(y==label1, y==label2)\n",
    "    for i in range(X.shape[0]):\n",
    "        if indices[i]:\n",
    "            train_data[index,:] = X[i]\n",
    "            index+=1\n",
    "\n",
    "    y = y[indices]\n",
    "    y = y.astype('float64')\n",
    "    y[y==label1] = -1\n",
    "    y[y==label2] = 1\n",
    "    return train_data,y"
   ]
  },
  {
   "cell_type": "code",
   "execution_count": 11,
   "id": "a4a62bb2",
   "metadata": {},
   "outputs": [],
   "source": [
    "infile = open('../train_data.pickle','rb')\n",
    "X_train, y_train = preprocess(pickle.load(infile))\n",
    "\n",
    "infile = open('../test_data.pickle','rb')\n",
    "X_test, y_test = preprocess(pickle.load(infile))\n",
    "infile.close()"
   ]
  },
  {
   "cell_type": "code",
   "execution_count": 15,
   "id": "11dbfb53",
   "metadata": {},
   "outputs": [
    {
     "name": "stdout",
     "output_type": "stream",
     "text": [
      "1\n",
      "2\n",
      "3\n",
      "4\n",
      "5\n",
      "6\n",
      "7\n",
      "8\n",
      "9\n",
      "10\n",
      "59.3\n"
     ]
    }
   ],
   "source": [
    "def predict_all(X_train, y_train, X_test):\n",
    "    train_data = []\n",
    "    for i in range(5):\n",
    "        for j in range(i+1,5):\n",
    "            train_data.append(get_data(i,j,X_train, y_train))\n",
    "        \n",
    "    index = 0\n",
    "    m_test = X_test.shape[0]\n",
    "    preds = np.zeros((10,m_test))\n",
    "    for i in range(5):\n",
    "        for j in range(i+1,5):\n",
    "            X,y = train_data[index]\n",
    "            preds[index] = predict(X,y, X_test,i,j)\n",
    "            index+=1\n",
    "            print(index)\n",
    "    preds = preds.astype('int64')\n",
    "    return preds\n",
    "\n",
    "m_test = y_test.shape[0]\n",
    "preds = predict_all(X_train, y_train, X_test)\n",
    "pred = np.zeros((m_test,1))\n",
    "for i in range(m_test):\n",
    "    pred[i][0] = np.bincount(preds[:,i]).argmax()\n",
    "accuracy = (pred==y_test).sum()/m_test\n",
    "print(accuracy*100)"
   ]
  },
  {
   "cell_type": "code",
   "execution_count": 39,
   "id": "d9570b9a",
   "metadata": {},
   "outputs": [
    {
     "data": {
      "image/png": "[encoded data removed]",
      "text/plain": [
       "<Figure size 432x288 with 2 Axes>"
      ]
     },
     "metadata": {
      "needs_background": "light"
     },
     "output_type": "display_data"
    }
   ],
   "source": [
    "pred = pred.flatten()\n",
    "y_test = y_test.flatten()\n",
    "conf_matrix = metrics.confusion_matrix(y_test, pred)\n",
    "cm_display = metrics.ConfusionMatrixDisplay(confusion_matrix = conf_matrix, display_labels = [0,1,2,3,4])\n",
    "cm_display.plot()\n",
    "plt.show()"
   ]
  },
  {
   "cell_type": "code",
   "execution_count": 53,
   "id": "fcdefbe9",
   "metadata": {},
   "outputs": [],
   "source": [
    "from PIL import Image"
   ]
  },
  {
   "cell_type": "code",
   "execution_count": 54,
   "id": "073eac9c",
   "metadata": {},
   "outputs": [],
   "source": [
    "def display_misclassified(y_test, X_test, pred):\n",
    "    misclassified = []\n",
    "    cnt = 0\n",
    "    i = 0\n",
    "    while cnt<10:\n",
    "        if y_test[i]!=pred[i]:\n",
    "            misclassified.append(X_test[i])\n",
    "            cnt+=1\n",
    "        i+=1\n",
    "    w, h = 32, 32\n",
    "    for l in range(10):\n",
    "        test = misclassified[l]\n",
    "        img_data = np.zeros((w, h, 3))\n",
    "        for i in range(w):\n",
    "            for j in range(h):\n",
    "                for k in range(3):\n",
    "                    img_data[i][j][k] = test[3*w*i + 3*j + k]*255\n",
    "\n",
    "        img_data = img_data.astype('uint8')\n",
    "        img = Image.fromarray(img_data, 'RGB')\n",
    "        img.save('../plots/image{}.jpg'.format(l+1))"
   ]
  },
  {
   "cell_type": "code",
   "execution_count": null,
   "id": "56d454c7",
   "metadata": {},
   "outputs": [],
   "source": []
  }
 ],
 "metadata": {
  "kernelspec": {
   "display_name": "Python 3 (ipykernel)",
   "language": "python",
   "name": "python3"
  },
  "language_info": {
   "codemirror_mode": {
    "name": "ipython",
    "version": 3
   },
   "file_extension": ".py",
   "mimetype": "text/x-python",
   "name": "python",
   "nbconvert_exporter": "python",
   "pygments_lexer": "ipython3",
   "version": "3.10.4"
  }
 },
 "nbformat": 4,
 "nbformat_minor": 5
}
