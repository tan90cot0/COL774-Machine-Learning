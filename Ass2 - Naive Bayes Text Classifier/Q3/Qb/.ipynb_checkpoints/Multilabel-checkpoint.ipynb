{
 "cells": [
  {
   "cell_type": "code",
   "execution_count": 109,
   "id": "06914c06",
   "metadata": {},
   "outputs": [],
   "source": [
    "import numpy as np\n",
    "#import functions\n",
    "import pickle\n",
    "from sklearn.svm import SVC\n",
    "from sklearn.metrics import accuracy_score"
   ]
  },
  {
   "cell_type": "code",
   "execution_count": 110,
   "id": "51b12fe9",
   "metadata": {},
   "outputs": [],
   "source": [
    "def predict(X_train,y_train,X_test, label1, label2):\n",
    "    svm = SVC(kernel='rbf', random_state=1, C=1, gamma = 0.001)\n",
    "    svm.fit(X_train, y_train)\n",
    "    y_pred = svm.predict(X_test)\n",
    "\n",
    "    y_pred[y_pred==1] = label2\n",
    "    y_pred[y_pred==-1] = label1\n",
    "    \n",
    "    \n",
    "    return y_pred"
   ]
  },
  {
   "cell_type": "code",
   "execution_count": 111,
   "id": "06ee5d38",
   "metadata": {},
   "outputs": [],
   "source": [
    "def preprocess(data_dict):\n",
    "    data = data_dict[\"data\"]\n",
    "    labels = data_dict[\"labels\"]\n",
    "    dims = data.shape\n",
    "    train_data = np.zeros((dims[0], dims[1]*dims[2]*dims[3]))\n",
    "    \n",
    "    for l in range(dims[0]):\n",
    "        x = []\n",
    "        for i in range(dims[1]):\n",
    "            for j in range(dims[2]):\n",
    "                for k in range(dims[3]):\n",
    "                    x.append(data[l][i][j][k]/255)\n",
    "        train_data[l,:] = np.array(x)\n",
    "\n",
    "    return train_data, labels"
   ]
  },
  {
   "cell_type": "code",
   "execution_count": 112,
   "id": "040669ae",
   "metadata": {},
   "outputs": [],
   "source": [
    "def get_data(label1, label2, X, y):\n",
    "    new_examples = (X.shape[0]*2)//5\n",
    "    train_data = np.zeros((new_examples, X.shape[1]))\n",
    "    index = 0\n",
    "    indices = np.logical_or(y==label1, y==label2)\n",
    "    for i in range(X.shape[0]):\n",
    "        if indices[i]:\n",
    "            train_data[index,:] = X[i]\n",
    "            index+=1\n",
    "\n",
    "    y = y[indices]\n",
    "    y = y.astype('float64')\n",
    "    y[y==label1] = -1\n",
    "    y[y==label2] = 1\n",
    "    return train_data,y"
   ]
  },
  {
   "cell_type": "code",
   "execution_count": 113,
   "id": "197291d5",
   "metadata": {},
   "outputs": [],
   "source": [
    "infile = open('../train_data.pickle','rb')\n",
    "X_train, y_train = preprocess(pickle.load(infile))\n",
    "\n",
    "infile = open('../test_data.pickle','rb')\n",
    "X_test, y_test = preprocess(pickle.load(infile))\n",
    "infile.close()"
   ]
  },
  {
   "cell_type": "code",
   "execution_count": 114,
   "id": "245d5ff0",
   "metadata": {},
   "outputs": [],
   "source": [
    "train_data = []\n",
    "for i in range(5):\n",
    "    for j in range(i+1,5):\n",
    "        train_data.append(get_data(i,j,X_train, y_train))\n",
    "        \n",
    "def predict_all(train_data, X_test):\n",
    "    index = 0\n",
    "    m_test = X_test.shape[0]\n",
    "    preds = np.zeros((10,m_test))\n",
    "    for i in range(5):\n",
    "        for j in range(i+1,5):\n",
    "            X,y = train_data[index]\n",
    "            preds[index] = predict(X,y, X_test,i,j)\n",
    "            index+=1\n",
    "            #print(index)\n",
    "    preds = preds.astype('int64')\n",
    "    return preds\n",
    "\n",
    "m_test = y_test.shape[0]\n",
    "preds = predict_all(train_data, X_test)\n",
    "pred = np.zeros((m_test,1))\n",
    "for i in range(m_test):\n",
    "    pred[i][0] = np.bincount(preds[:,i]).argmax()\n",
    "accuracy = (pred==y_test).sum()/m_test\n",
    "print(accuracy*100)"
   ]
  },
  {
   "cell_type": "code",
   "execution_count": 115,
   "id": "5519f514",
   "metadata": {},
   "outputs": [
    {
     "name": "stdout",
     "output_type": "stream",
     "text": [
      "1\n",
      "2\n",
      "3\n",
      "4\n",
      "5\n",
      "6\n",
      "7\n",
      "8\n",
      "9\n",
      "10\n"
     ]
    }
   ],
   "source": []
  },
  {
   "cell_type": "code",
   "execution_count": 117,
   "id": "8bbe2260",
   "metadata": {},
   "outputs": [
    {
     "data": {
      "text/plain": [
       "(5000, 1)"
      ]
     },
     "execution_count": 117,
     "metadata": {},
     "output_type": "execute_result"
    }
   ],
   "source": [
    "y_test.shape"
   ]
  },
  {
   "cell_type": "code",
   "execution_count": null,
   "id": "fc8b87eb",
   "metadata": {},
   "outputs": [],
   "source": []
  }
 ],
 "metadata": {
  "kernelspec": {
   "display_name": "Python 3 (ipykernel)",
   "language": "python",
   "name": "python3"
  },
  "language_info": {
   "codemirror_mode": {
    "name": "ipython",
    "version": 3
   },
   "file_extension": ".py",
   "mimetype": "text/x-python",
   "name": "python",
   "nbconvert_exporter": "python",
   "pygments_lexer": "ipython3",
   "version": "3.10.4"
  }
 },
 "nbformat": 4,
 "nbformat_minor": 5
}
