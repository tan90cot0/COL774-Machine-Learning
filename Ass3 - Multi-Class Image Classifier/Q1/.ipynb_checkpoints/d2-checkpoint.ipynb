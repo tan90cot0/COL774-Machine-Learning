{
 "cells": [
  {
   "cell_type": "code",
   "execution_count": 7,
   "id": "d3a5fb06",
   "metadata": {},
   "outputs": [],
   "source": [
    "import pandas as pd\n",
    "import math\n",
    "import numpy as np\n",
    "from nltk.corpus import stopwords\n",
    "from sklearn.feature_extraction.text import CountVectorizer\n",
    "from scipy.sparse import coo_matrix, hstack, csr_matrix\n",
    "from sklearn import tree"
   ]
  },
  {
   "cell_type": "code",
   "execution_count": 2,
   "id": "4046ea52",
   "metadata": {},
   "outputs": [],
   "source": [
    "def clean(review, stopwords):\n",
    "    tokens = review.lower().replace('&#039;', \"\").replace('.', \" \").replace(',', \" \").replace('\"', \" \").replace('\\r', \" \").replace('\\n', \" \").replace('-', \" \").split()\n",
    "    new_review = \"\"\n",
    "    for word in tokens:\n",
    "        if word not in stopwords:\n",
    "            new_review+=word + \" \"\n",
    "    return new_review"
   ]
  },
  {
   "cell_type": "code",
   "execution_count": 3,
   "id": "ef3bfcbd",
   "metadata": {},
   "outputs": [],
   "source": [
    "data = pd.read_csv(\"DrugsComTrain.csv\")\n",
    "conditions = list(data[\"condition\"])\n",
    "for i in range(len(conditions)):\n",
    "    if type(conditions[i])==float and math.isnan(conditions[i]):\n",
    "        conditions[i] = \"\"\n",
    "vectorizer = CountVectorizer()\n",
    "conditions = vectorizer.fit_transform(conditions)\n",
    "\n",
    "reviews = list(data[\"review\"])\n",
    "for i in range(len(reviews)):\n",
    "    if type(reviews[i])==float and math.isnan(reviews[i]):\n",
    "        reviews[i] = \"\"\n",
    "\n",
    "stop_words = set(stopwords.words('english'))\n",
    "for i in range(len(reviews)):\n",
    "    reviews[i] = clean(reviews[i], stop_words)\n",
    "\n",
    "vectorizer = CountVectorizer()\n",
    "reviews = vectorizer.fit_transform(reviews)\n",
    "\n",
    "l = list(data[\"date\"])\n",
    "months = {\"January\": 1, \"February\":2, \"March\":3, \"April\":4, \"May\":5, \"June\":6, \"July\":7, \"August\":8, \"September\":9, \"October\":10, \"November\":11, \"December\":12}\n",
    "dates = np.zeros((len(l), 3))\n",
    "for i in range(len(l)):\n",
    "    temp = l[i].split()\n",
    "    month = months[temp[0]]\n",
    "    date = int(temp[1][:-1])\n",
    "    year = int(temp[2])\n",
    "    dates[i] = np.array([date, month, year])\n",
    "dates=csr_matrix(dates)\n",
    "\n",
    "usefulCount = csr_matrix(np.array(data['usefulCount']).reshape(dates.shape[0], 1))"
   ]
  },
  {
   "cell_type": "code",
   "execution_count": 5,
   "id": "ce1bd55b",
   "metadata": {},
   "outputs": [],
   "source": [
    "X = hstack([reviews,conditions, dates, usefulCount])"
   ]
  },
  {
   "cell_type": "code",
   "execution_count": 6,
   "id": "15056979",
   "metadata": {},
   "outputs": [
    {
     "name": "stdout",
     "output_type": "stream",
     "text": [
      "(112908, 44836)\n",
      "(112908, 1006)\n",
      "(112908, 3)\n",
      "(112908, 1)\n"
     ]
    }
   ],
   "source": [
    "print(reviews.shape)\n",
    "print(conditions.shape)\n",
    "print(dates.shape)\n",
    "print(usefulCount.shape)"
   ]
  },
  {
   "cell_type": "code",
   "execution_count": 8,
   "id": "930675a2",
   "metadata": {},
   "outputs": [],
   "source": [
    "clf = tree.DecisionTreeClassifier(random_state = 0)"
   ]
  },
  {
   "cell_type": "code",
   "execution_count": null,
   "id": "60dc9474",
   "metadata": {},
   "outputs": [],
   "source": [
    "X_train,y_train = data[0]\n",
    "clf.fit(X_train, y_train)\n",
    "acc = []\n",
    "for X,y in data:\n",
    "    acc.append(clf.score(X,y))"
   ]
  }
 ],
 "metadata": {
  "kernelspec": {
   "display_name": "Python 3 (ipykernel)",
   "language": "python",
   "name": "python3"
  },
  "language_info": {
   "codemirror_mode": {
    "name": "ipython",
    "version": 3
   },
   "file_extension": ".py",
   "mimetype": "text/x-python",
   "name": "python",
   "nbconvert_exporter": "python",
   "pygments_lexer": "ipython3",
   "version": "3.10.4"
  },
  "vscode": {
   "interpreter": {
    "hash": "aee8b7b246df8f9039afb4144a1f6fd8d2ca17a180786b69acc140d282b71a49"
   }
  }
 },
 "nbformat": 4,
 "nbformat_minor": 5
}
